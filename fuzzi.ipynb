{
  "nbformat": 4,
  "nbformat_minor": 0,
  "metadata": {
    "colab": {
      "provenance": [],
      "authorship_tag": "ABX9TyOqn1urpKEXN3a65EeXzwrA",
      "include_colab_link": true
    },
    "kernelspec": {
      "name": "python3",
      "display_name": "Python 3"
    },
    "language_info": {
      "name": "python"
    }
  },
  "cells": [
    {
      "cell_type": "markdown",
      "metadata": {
        "id": "view-in-github",
        "colab_type": "text"
      },
      "source": [
        "<a href=\"https://colab.research.google.com/github/mmatinkhah/fuzzy1/blob/main/fuzzi.ipynb\" target=\"_parent\"><img src=\"https://colab.research.google.com/assets/colab-badge.svg\" alt=\"Open In Colab\"/></a>"
      ]
    },
    {
      "cell_type": "code",
      "source": [
        "!pip3 install -U scikit-fuzzy\n",
        "# این لینک را بررسی کنید\n",
        "# https://pythonhosted.org/scikit-fuzzy/api/skfuzzy.html#:~:text=scikit%2Dfuzzy%20(a.k.a.%20skfuzzy%20)%3A,also%20known%20as%20grey%20logic.\n",
        "import numpy as np\n",
        "import skfuzzy as fuzz\n",
        "\n",
        "# Define input and output variables\n",
        "# Input variables\n",
        "age = np.arange(0, 101, 1)\n",
        "income = np.arange(0, 201, 1)\n",
        "\n",
        "# Output variable\n",
        "credit_score = np.arange(0, 11, 1)\n",
        "\n",
        "# Fuzzy membership functions\n",
        "age_lo = fuzz.trimf(age, [0, 0, 50])\n",
        "age_md = fuzz.trimf(age, [0, 50, 100])\n",
        "age_hi = fuzz.trimf(age, [50, 100, 100])\n",
        "\n",
        "income_lo = fuzz.trimf(income, [0, 0, 100])\n",
        "income_md = fuzz.trimf(income, [0, 100, 200])\n",
        "income_hi = fuzz.trimf(income, [100, 200, 200])\n",
        "\n",
        "credit_score_lo = fuzz.trimf(credit_score, [0, 0, 5])\n",
        "credit_score_md = fuzz.trimf(credit_score, [0, 5, 10])\n",
        "credit_score_hi = fuzz.trimf(credit_score, [5, 10, 10])\n",
        "\n",
        "# Fuzzification\n",
        "age_level_lo = fuzz.interp_membership(age, age_lo, 20)\n",
        "age_level_md = fuzz.interp_membership(age, age_md, 20)\n",
        "age_level_hi = fuzz.interp_membership(age, age_hi, 20)\n",
        "\n",
        "income_level_lo = fuzz.interp_membership(income, income_lo, 50)\n",
        "income_level_md = fuzz.interp_membership(income, income_md, 50)\n",
        "income_level_hi = fuzz.interp_membership(income, income_hi, 50)\n",
        "\n",
        "# Rule evaluation\n",
        "rule1 = np.fmin(age_level_hi, income_level_hi)\n",
        "credit_score_activation_lo = np.fmin(rule1, credit_score_lo)\n",
        "\n",
        "rule2 = np.fmin(age_level_md, income_level_md)\n",
        "credit_score_activation_md = np.fmin(rule2, credit_score_md)\n",
        "\n",
        "rule3 = np.fmin(age_level_lo, income_level_lo)\n",
        "credit_score_activation_hi = np.fmin(rule3, credit_score_hi)\n",
        "\n",
        "# Defuzzification\n",
        "credit_score_result = fuzz.defuzz(credit_score, np.fmax(credit_score_activation_lo,\n",
        "                                                        np.fmax(credit_score_activation_md, credit_score_activation_hi)),\n",
        "                                   'centroid')\n",
        "\n",
        "print(\"The credit score is: \", credit_score_result)\n"
      ],
      "metadata": {
        "colab": {
          "base_uri": "https://localhost:8080/"
        },
        "id": "stdiq5W-afLA",
        "outputId": "a9658278-ffb1-4d3e-aa89-609e2a5b4409"
      },
      "execution_count": 9,
      "outputs": [
        {
          "output_type": "stream",
          "name": "stdout",
          "text": [
            "Looking in indexes: https://pypi.org/simple, https://us-python.pkg.dev/colab-wheels/public/simple/\n",
            "Requirement already satisfied: scikit-fuzzy in /usr/local/lib/python3.9/dist-packages (0.4.2)\n",
            "Requirement already satisfied: scipy>=0.9.0 in /usr/local/lib/python3.9/dist-packages (from scikit-fuzzy) (1.10.1)\n",
            "Requirement already satisfied: numpy>=1.6.0 in /usr/local/lib/python3.9/dist-packages (from scikit-fuzzy) (1.22.4)\n",
            "Requirement already satisfied: networkx>=1.9.0 in /usr/local/lib/python3.9/dist-packages (from scikit-fuzzy) (3.0)\n",
            "The credit score is:  5.692640692640692\n"
          ]
        }
      ]
    }
  ]
}